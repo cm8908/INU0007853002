{
 "cells": [
  {
   "cell_type": "code",
   "execution_count": 1,
   "metadata": {},
   "outputs": [],
   "source": [
    "import pymongo\n",
    "from pymongo import MongoClient"
   ]
  },
  {
   "cell_type": "code",
   "execution_count": 2,
   "metadata": {},
   "outputs": [],
   "source": [
    "client = MongoClient()\n",
    "db = client['lol']"
   ]
  },
  {
   "cell_type": "code",
   "execution_count": 3,
   "metadata": {},
   "outputs": [
    {
     "name": "stderr",
     "output_type": "stream",
     "text": [
      "C:\\Users\\jungm\\AppData\\Local\\Programs\\Python\\Python37\\lib\\site-packages\\pymongo\\collection.py:1533: UserWarning: use an explicit session with no_cursor_timeout=True otherwise the cursor may still timeout after 30 minutes, for more info see https://docs.mongodb.com/v4.4/reference/method/cursor.noCursorTimeout/#session-idle-timeout-overrides-nocursortimeout\n",
      "  return Cursor(self, *args, **kwargs)\n"
     ]
    }
   ],
   "source": [
    "matchlist_col = db['matchlist']\n",
    "matchlists = matchlist_col.find(no_cursor_timeout=True)"
   ]
  },
  {
   "cell_type": "markdown",
   "metadata": {},
   "source": [
    "# Tier"
   ]
  },
  {
   "cell_type": "code",
   "execution_count": 4,
   "metadata": {},
   "outputs": [],
   "source": [
    "from riotwatcher import LolWatcher, ApiError\n",
    "from LolCrawler.config import config\n",
    "import time\n",
    "\n",
    "watcher = LolWatcher(api_key=config['api_key'])\n",
    "\n",
    "## get_tier\n",
    "def get_tier(puuid):\n",
    "    while True:\n",
    "        try:\n",
    "            summoner = watcher.summoner.by_puuid('KR', puuid)\n",
    "            data = watcher.league.by_summoner('KR', summoner['id'])\n",
    "            if len(data) > 0:\n",
    "                data = data[0]\n",
    "            else:\n",
    "                return 'U', 0, 0\n",
    "            break\n",
    "        except ApiError as e:\n",
    "            print(e)\n",
    "            print('Exception has been raised. Sleeping for 5 min')\n",
    "            time.sleep(300)\n",
    "\n",
    "    data['tier'][0] # I B S G P D M GM C\n",
    "    if data['tier'][:2] == 'GO':\n",
    "        tier = 'G'\n",
    "    elif data['tier'][:2] == 'GR':\n",
    "        tier = 'GM'\n",
    "    else:\n",
    "        tier = data['tier'][0]\n",
    "    \n",
    "    if data['rank'] == 'I':\n",
    "        rank = '1'\n",
    "    elif data['rank'] == 'II':\n",
    "        rank = '2'\n",
    "    elif data['rank'] == 'III':\n",
    "        rank = '3'\n",
    "    elif data['rank'] == 'IV':\n",
    "        rank = '4'\n",
    "    \n",
    "    lp = data['leaguePoints']\n",
    "    winrate = round(data['wins'] / (data['wins']+data['losses']) * 100, 2)\n",
    "\n",
    "    if tier in ['C', 'GM', 'M']:\n",
    "        return tier, lp, winrate\n",
    "    else:\n",
    "        return tier+rank, lp, winrate\n"
   ]
  },
  {
   "cell_type": "markdown",
   "metadata": {},
   "source": [
    "# Do"
   ]
  },
  {
   "cell_type": "code",
   "execution_count": 4,
   "metadata": {},
   "outputs": [],
   "source": [
    "puuid = 'QY3_i7hwfkU5n9w0N57pOitmePy1LYp3J8B0nu9Qi-bsHyA0IW6Cq1tfRXW0qBDsfiWh3bkRkgpiJg'"
   ]
  },
  {
   "cell_type": "code",
   "execution_count": 5,
   "metadata": {},
   "outputs": [
    {
     "name": "stdout",
     "output_type": "stream",
     "text": [
      "20706\n"
     ]
    }
   ],
   "source": [
    "for index, user in enumerate(matchlists):\n",
    "    if user['_id'] == puuid:\n",
    "        print(index)\n",
    "    "
   ]
  },
  {
   "cell_type": "code",
   "execution_count": 7,
   "metadata": {},
   "outputs": [
    {
     "name": "stderr",
     "output_type": "stream",
     "text": [
      "C:\\Users\\jungm\\AppData\\Local\\Programs\\Python\\Python37\\lib\\site-packages\\pymongo\\collection.py:1533: UserWarning: use an explicit session with no_cursor_timeout=True otherwise the cursor may still timeout after 30 minutes, for more info see https://docs.mongodb.com/v4.4/reference/method/cursor.noCursorTimeout/#session-idle-timeout-overrides-nocursortimeout\n",
      "  return Cursor(self, *args, **kwargs)\n"
     ]
    },
    {
     "name": "stdout",
     "output_type": "stream",
     "text": [
      "11-10 22:04 :: Exception has been raised. Sleeping for 1 min :: puuid = QY3_i7hwfkU5n9w0N57pOitmePy1LYp3J8B0nu9Qi-bsHyA0IW6Cq1tfRXW0qBDsfiWh3bkRkgpiJg\n"
     ]
    }
   ],
   "source": [
    "i = 11023\n",
    "while True:\n",
    "    matchlists = matchlist_col.find(no_cursor_timeout=True)\n",
    "    try:\n",
    "        for user in matchlists[i:]:\n",
    "            puuid = user['_id']\n",
    "            tier, lp, winrate = get_tier(puuid)\n",
    "            user['extractions']['tier'] = tier\n",
    "            user['extractions']['leaguePoints'] = lp\n",
    "            user['extractions']['winrate'] = winrate\n",
    "            matchlist_col.replace_one(filter={'_id': puuid}, replacement=user, upsert=False)\n",
    "    except:\n",
    "        print(time.strftime('%m-%d %H:%M')+' :: Exception has been raised. Sleeping for 1 min :: puuid =', puuid)\n",
    "        matchlists = matchlist_col.find(no_cursor_timeout=True)\n",
    "        for index, user in enumerate(matchlists):\n",
    "            if user['_id'] == puuid:\n",
    "                i = index\n",
    "        time.sleep(60)\n",
    "        "
   ]
  },
  {
   "cell_type": "code",
   "execution_count": null,
   "metadata": {},
   "outputs": [
    {
     "data": {
      "text/plain": [
       "dict"
      ]
     },
     "execution_count": 14,
     "metadata": {},
     "output_type": "execute_result"
    }
   ],
   "source": [
    "from IPython.display import Audio\n",
    "Audio('D:\\long_success.wav', autoplay=True)"
   ]
  }
 ],
 "metadata": {
  "interpreter": {
   "hash": "04d2f5c987cc613a168adf0ce370dda121157eef68da794d062bc520b4007951"
  },
  "kernelspec": {
   "display_name": "Python 3.7.8 64-bit",
   "language": "python",
   "name": "python3"
  },
  "language_info": {
   "codemirror_mode": {
    "name": "ipython",
    "version": 3
   },
   "file_extension": ".py",
   "mimetype": "text/x-python",
   "name": "python",
   "nbconvert_exporter": "python",
   "pygments_lexer": "ipython3",
   "version": "3.7.8"
  },
  "orig_nbformat": 4
 },
 "nbformat": 4,
 "nbformat_minor": 2
}
