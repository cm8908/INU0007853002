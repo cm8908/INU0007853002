{
 "cells": [
  {
   "cell_type": "code",
   "execution_count": 5,
   "metadata": {},
   "outputs": [
    {
     "name": "stdout",
     "output_type": "stream",
     "text": [
      "Collecting pandas\n",
      "  Downloading pandas-1.3.4-cp39-cp39-win_amd64.whl (10.2 MB)\n",
      "Requirement already satisfied: pymongo in c:\\users\\jungm\\anaconda3\\envs\\lol\\lib\\site-packages (3.12.0)\n",
      "Collecting pytz>=2017.3\n",
      "  Downloading pytz-2021.3-py2.py3-none-any.whl (503 kB)\n",
      "Requirement already satisfied: python-dateutil>=2.7.3 in c:\\users\\jungm\\anaconda3\\envs\\lol\\lib\\site-packages (from pandas) (2.8.2)\n",
      "Requirement already satisfied: numpy>=1.17.3 in c:\\users\\jungm\\anaconda3\\envs\\lol\\lib\\site-packages (from pandas) (1.21.2)\n",
      "Requirement already satisfied: six>=1.5 in c:\\users\\jungm\\anaconda3\\envs\\lol\\lib\\site-packages (from python-dateutil>=2.7.3->pandas) (1.16.0)\n",
      "Installing collected packages: pytz, pandas\n",
      "Successfully installed pandas-1.3.4 pytz-2021.3\n"
     ]
    }
   ],
   "source": [
    "!pip install pandas pymongo"
   ]
  },
  {
   "cell_type": "markdown",
   "metadata": {},
   "source": [
    "https://somjang.tistory.com/entry/MongoDB-Python%EA%B3%BC-Pymongo%EB%A5%BC-%ED%99%9C%EC%9A%A9%ED%95%98%EC%97%AC-%EB%8D%B0%EC%9D%B4%ED%84%B0-%EC%B6%94%EA%B0%80%ED%95%98%EA%B3%A0-%EC%B6%9C%EB%A0%A5%ED%95%B4%EB%B3%B4%EA%B8%B0"
   ]
  },
  {
   "cell_type": "code",
   "execution_count": 3,
   "metadata": {},
   "outputs": [],
   "source": [
    "import pandas as pd\n",
    "import pymongo\n",
    "from pymongo import MongoClient\n",
    "import time"
   ]
  },
  {
   "cell_type": "code",
   "execution_count": 4,
   "metadata": {},
   "outputs": [],
   "source": [
    "client = MongoClient()\n",
    "db = client['lol']"
   ]
  },
  {
   "cell_type": "code",
   "execution_count": 5,
   "metadata": {},
   "outputs": [],
   "source": [
    "match_col = db['match']\n",
    "matches = match_col.find()"
   ]
  },
  {
   "cell_type": "code",
   "execution_count": null,
   "metadata": {},
   "outputs": [],
   "source": [
    "tier_col = db['tier']\n",
    "#tiers = tier_col.find()"
   ]
  },
  {
   "cell_type": "markdown",
   "metadata": {},
   "source": [
    "# Features"
   ]
  },
  {
   "cell_type": "code",
   "execution_count": 6,
   "metadata": {},
   "outputs": [
    {
     "name": "stdout",
     "output_type": "stream",
     "text": [
      "['summonerName', 'puuid', 'summonerLevel', 'win', 'kills', 'deaths', 'assists', 'firstBloodKill', 'firstBloodAssist', 'doubleKills', 'tripleKills', 'quadraKills', 'pentaKills', 'unrealKills', 'bountyLevel', 'killingSprees', 'damageDealtToObjectives', 'baronKills', 'dragonKills', 'objectivesStolen', 'objectivesStolenAssists', 'neutralMinionsKilled', 'firstTowerKill', 'firstTowerAssist', 'inhibitorKills', 'turretKills', 'damageDealtToTurrets', 'damageSelfMitigated', 'magicDamageDealt', 'magicDamageDealtToChampions', 'magicDamageTaken', 'physicalDamageDealt', 'physicalDamageDealtToChampions', 'physicalDamageTaken', 'totalDamageDealt', 'totalDamageDealtToChampions', 'totalDamageShieldedOnTeammates', 'totalDamageTaken', 'trueDamageDealt', 'trueDamageDealtToChampions', 'trueDamageTaken', 'totalHealsOnTeammates', 'totalHeal', 'totalTimeCCDealt', 'totalUnitsHealed', 'detectorWardsPlaced', 'visionWardsBoughtInGame', 'wardsKilled', 'wardsPlaced', 'visionScore', 'championName', 'champLevel', 'champExperience', 'individualPosition', 'role', 'lane', 'totalMinionsKilled', 'goldEarned', 'goldSpent', 'consumablesPurchased', 'itemsPurchased'] \n",
      " 61\n"
     ]
    }
   ],
   "source": [
    "part_info = ['summonerName', 'puuid', 'summonerLevel', 'win']\n",
    "\n",
    "f_objectives = ['damageDealtToObjectives', 'baronKills', 'dragonKills','objectivesStolen', 'objectivesStolenAssists',\n",
    "                'neutralMinionsKilled']\n",
    "\n",
    "f_towers = ['firstTowerKill', 'firstTowerAssist','inhibitorKills','turretKills']\n",
    "\n",
    "f_damages = ['damageDealtToTurrets', 'damageSelfMitigated','magicDamageDealt', 'magicDamageDealtToChampions', 'magicDamageTaken',\n",
    "            'physicalDamageDealt','physicalDamageDealtToChampions', 'physicalDamageTaken','totalDamageDealt', 'totalDamageDealtToChampions',\n",
    "             'totalDamageShieldedOnTeammates', 'totalDamageTaken','trueDamageDealt', 'trueDamageDealtToChampions', \n",
    "             'trueDamageTaken', 'totalHealsOnTeammates','totalHeal',   'totalTimeCCDealt','totalUnitsHealed']\n",
    "\n",
    "f_sight = ['detectorWardsPlaced', 'visionWardsBoughtInGame', 'wardsKilled', 'wardsPlaced','visionScore']\n",
    "\n",
    "f_champ = ['championName', 'champLevel', 'champExperience', 'individualPosition','role', 'lane','totalMinionsKilled']\n",
    "\n",
    "f_kdas = ['kills', 'deaths', 'assists',  'firstBloodKill','firstBloodAssist','doubleKills','tripleKills','quadraKills', 'pentaKills',\n",
    "         'unrealKills', 'bountyLevel','killingSprees']\n",
    "f_gold = ['goldEarned', 'goldSpent', 'consumablesPurchased', 'itemsPurchased']\n",
    "\n",
    "feature_list = []\n",
    "for li in [part_info, f_kdas, f_objectives, f_towers, f_damages, f_sight, f_champ, f_gold]:\n",
    "    feature_list.extend(li)\n",
    "    \n",
    "print(feature_list,'\\n', len(feature_list))"
   ]
  },
  {
   "cell_type": "markdown",
   "metadata": {},
   "source": [
    "# Load tiers"
   ]
  },
  {
   "cell_type": "code",
   "execution_count": null,
   "metadata": {},
   "outputs": [],
   "source": [
    "def load_tier(id):\n",
    "    entity = tier_col.find_one(filter={'_id': id})\n",
    "    tier, lp, winrate = entity['tier'], entity['leaguePoints'], entity['winrate']\n",
    "    return tier, lp, winrate\n",
    "    "
   ]
  },
  {
   "cell_type": "markdown",
   "metadata": {},
   "source": [
    "# Preparing"
   ]
  },
  {
   "cell_type": "code",
   "execution_count": 8,
   "metadata": {},
   "outputs": [],
   "source": [
    "#N = matches.count()\n",
    "batch = 10000\n",
    "fname = time.strftime(\"%m%d-%H%M.csv\")\n",
    "\n",
    "i = 0\n",
    "Dic = []\n",
    "for match in matches:\n",
    "    if match['info']['gameMode'] == 'CLASSIC':\n",
    "        if i%batch == 0 and i != 0:\n",
    "            df = pd.DataFrame(Dic)\n",
    "            df.to_csv('data/'+fname, index=False, encoding='UTF-8')\n",
    "            Dic = []\n",
    "\n",
    "        for part in match['info']['participants']:\n",
    "            if part['lane'] == 'TOP' and part['teamPosition'] == 'TOP':\n",
    "                dic = {}\n",
    "                dic['gameId'] = match['info']['gameId']\n",
    "                dic['gameDuration'] = match['info']['gameDuration']\n",
    "                tier, lp, winrate = load_tier(part['summonerId'])\n",
    "                dic['tier'] = tier\n",
    "                dic['leaguePoints'] = lp\n",
    "                dic['winrate'] = winrate\n",
    "                for f in feature_list:\n",
    "                    dic[f] = part[f]\n",
    "                Dic.append(dic)\n",
    "        i += 1\n",
    "\n",
    "df = pd.DataFrame(Dic)\n",
    "df.to_csv('data/'+fname, index=False, encoding='UTF-8')\n",
    "Dic = []\n",
    "\n"
   ]
  },
  {
   "cell_type": "code",
   "execution_count": null,
   "metadata": {},
   "outputs": [],
   "source": []
  }
 ],
 "metadata": {
  "interpreter": {
   "hash": "b184d634f8a08e690bef0cdca5255fbd30f1a23e5dd08b44da3010375db60a6f"
  },
  "kernelspec": {
   "display_name": "Python 3",
   "language": "python",
   "name": "python3"
  },
  "language_info": {
   "codemirror_mode": {
    "name": "ipython",
    "version": 3
   },
   "file_extension": ".py",
   "mimetype": "text/x-python",
   "name": "python",
   "nbconvert_exporter": "python",
   "pygments_lexer": "ipython3",
   "version": "3.8.5"
  }
 },
 "nbformat": 4,
 "nbformat_minor": 5
}
